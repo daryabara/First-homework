{
  "nbformat": 4,
  "nbformat_minor": 0,
  "metadata": {
    "colab": {
      "provenance": [],
      "authorship_tag": "ABX9TyO2FOHJZERhcqxISlMcreL/",
      "include_colab_link": true
    },
    "kernelspec": {
      "name": "python3",
      "display_name": "Python 3"
    },
    "language_info": {
      "name": "python"
    }
  },
  "cells": [
    {
      "cell_type": "markdown",
      "metadata": {
        "id": "view-in-github",
        "colab_type": "text"
      },
      "source": [
        "<a href=\"https://colab.research.google.com/github/daryabara/First-homework/blob/main/%D0%94%D0%BE%D0%BC%D0%B0%D1%88%D0%BD%D0%B5%D0%B5_%D0%B7%D0%B0%D0%B4%D0%B0%D0%BD%D0%B8%D0%B5_1.ipynb\" target=\"_parent\"><img src=\"https://colab.research.google.com/assets/colab-badge.svg\" alt=\"Open In Colab\"/></a>"
      ]
    },
    {
      "cell_type": "code",
      "execution_count": null,
      "metadata": {
        "colab": {
          "base_uri": "https://localhost:8080/"
        },
        "id": "fSIdqakx-JL0",
        "outputId": "7d4cda4a-2050-4d77-d842-8442a3ff208e"
      },
      "outputs": [
        {
          "output_type": "stream",
          "name": "stdout",
          "text": [
            "Введите первое числр:10\n",
            "Введите второе чтсло:10\n",
            "20\n"
          ]
        }
      ],
      "source": [
        "#Задача 12\n",
        "#Написать программу, которая принимает от пользователя два чтсла и выводит их произвидение\n",
        "\n",
        "#Решение\n",
        "number_1=int(input(\"Введите первое число:\")) #вводим первую переменную и используем функцию ввода значения вручную после компиляции\n",
        "number_2=int(input(\"Введите второе число:\")) #вводим вторую переменную и используем функцию ввода значения вручную после компиляции\n",
        "print(number_1+ number_2)#выводим сумму двух введенных значений\n"
      ]
    }
  ]
}